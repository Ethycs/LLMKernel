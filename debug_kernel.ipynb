{
 "cells": [
  {
   "cell_type": "markdown",
   "metadata": {},
   "source": [
    "# Debug LLM Kernel\n",
    "\n",
    "This notebook helps debug the LLM kernel by enabling the debugger and testing various features."
   ]
  },
  {
   "cell_type": "markdown",
   "metadata": {},
   "source": [
    "## 1. Enable Debugging\n",
    "\n",
    "First, enable the debugger. After running this cell:\n",
    "1. Go to VS Code's Run and Debug panel (Ctrl+Shift+D)\n",
    "2. Select \"Debug LLM Kernel\" from the dropdown\n",
    "3. Click the green play button or press F5"
   ]
  },
  {
   "cell_type": "code",
   "execution_count": null,
   "metadata": {},
   "outputs": [],
   "source": [
    "%llm_debug"
   ]
  },
  {
   "cell_type": "code",
   "execution_count": null,
   "metadata": {},
   "outputs": [],
   "source": [
    "# Or wait for debugger to attach\n",
    "%llm_debug --wait"
   ]
  },
  {
   "cell_type": "markdown",
   "metadata": {},
   "source": [
    "## 2. Test Basic Commands\n",
    "\n",
    "Let's test the basic magic commands to ensure they're working:"
   ]
  },
  {
   "cell_type": "code",
   "execution_count": null,
   "metadata": {},
   "outputs": [],
   "source": [
    "# Check available models\n",
    "%llm_models"
   ]
  },
  {
   "cell_type": "code",
   "execution_count": null,
   "metadata": {},
   "outputs": [],
   "source": [
    "# Check kernel status\n",
    "%llm_status"
   ]
  },
  {
   "cell_type": "code",
   "execution_count": null,
   "metadata": {},
   "outputs": [],
   "source": [
    "# Test context display\n",
    "%llm_context"
   ]
  },
  {
   "cell_type": "markdown",
   "metadata": {},
   "source": [
    "## 3. Test LLM Query\n",
    "\n",
    "Test basic LLM functionality:"
   ]
  },
  {
   "cell_type": "code",
   "execution_count": null,
   "metadata": {},
   "outputs": [],
   "source": [
    "%%llm\n",
    "Hello! Can you confirm you're working properly?"
   ]
  },
  {
   "cell_type": "markdown",
   "metadata": {},
   "source": [
    "## 4. Test Chat Mode\n",
    "\n",
    "Enable chat mode and test:"
   ]
  },
  {
   "cell_type": "code",
   "execution_count": null,
   "metadata": {},
   "outputs": [],
   "source": [
    "%llm_chat on"
   ]
  },
  {
   "cell_type": "code",
   "execution_count": null,
   "metadata": {},
   "outputs": [],
   "source": [
    "What is 2+2?"
   ]
  },
  {
   "cell_type": "code",
   "execution_count": null,
   "metadata": {},
   "outputs": [],
   "source": [
    "%llm_chat off"
   ]
  },
  {
   "cell_type": "markdown",
   "metadata": {},
   "source": [
    "## 5. Test Context Management"
   ]
  },
  {
   "cell_type": "code",
   "execution_count": null,
   "metadata": {},
   "outputs": [],
   "source": [
    "# Test hiding cells\n",
    "%%hide\n",
    "secret_value = \"This should be hidden from context\"\n",
    "print(f\"Secret: {secret_value}\")"
   ]
  },
  {
   "cell_type": "code",
   "execution_count": null,
   "metadata": {},
   "outputs": [],
   "source": [
    "# Check hidden cells\n",
    "%llm_hidden"
   ]
  },
  {
   "cell_type": "code",
   "execution_count": null,
   "metadata": {},
   "outputs": [],
   "source": [
    "# Test context persistence\n",
    "%llm_context_save debug_context.json"
   ]
  },
  {
   "cell_type": "markdown",
   "metadata": {},
   "source": [
    "## 6. Test MCP Features (if available)"
   ]
  },
  {
   "cell_type": "code",
   "execution_count": null,
   "metadata": {},
   "outputs": [],
   "source": [
    "# Check MCP configuration\n",
    "%llm_mcp_config"
   ]
  },
  {
   "cell_type": "code",
   "execution_count": null,
   "metadata": {},
   "outputs": [],
   "source": [
    "# Try to connect (will show error if fastmcp not installed)\n",
    "%llm_mcp_connect"
   ]
  },
  {
   "cell_type": "markdown",
   "metadata": {},
   "source": [
    "## 7. Test Error Handling\n",
    "\n",
    "Let's intentionally cause some errors to see if they're handled properly:"
   ]
  },
  {
   "cell_type": "code",
   "execution_count": null,
   "metadata": {},
   "outputs": [],
   "source": [
    "# Try to switch to non-existent model\n",
    "%llm_model non_existent_model"
   ]
  },
  {
   "cell_type": "code",
   "execution_count": null,
   "metadata": {},
   "outputs": [],
   "source": [
    "# Try to unhide non-existent cell\n",
    "%llm_unhide 999"
   ]
  },
  {
   "cell_type": "markdown",
   "metadata": {},
   "source": [
    "## 8. Check Import Issues\n",
    "\n",
    "Let's verify all modules are importing correctly:"
   ]
  },
  {
   "cell_type": "code",
   "execution_count": null,
   "metadata": {},
   "outputs": [],
   "source": [
    "# This should work even without debugger\n",
    "import llm_kernel\n",
    "from llm_kernel.kernel import LLMKernel\n",
    "from llm_kernel.magic_commands import BaseMagics, ContextMagics, MCPMagics, RerankingMagics, ConfigMagics\n",
    "from llm_kernel.llm_integration import LLMIntegration\n",
    "print(\"✅ All imports successful!\")"
   ]
  },
  {
   "cell_type": "markdown",
   "metadata": {},
   "source": [
    "## Debugging Tips\n",
    "\n",
    "1. **Set Breakpoints**: In VS Code, click in the gutter next to line numbers in any `.py` file to set breakpoints\n",
    "2. **Common Breakpoint Locations**:\n",
    "   - `kernel.py`: `do_execute()` method (line ~476)\n",
    "   - `base.py`: `llm()` cell magic (line ~173)\n",
    "   - `llm_integration.py`: `query_llm_async()` (line ~26)\n",
    "3. **Watch Variables**: Add variables to the Watch panel to monitor their values\n",
    "4. **Debug Console**: Use the Debug Console to execute Python code in the current context\n",
    "\n",
    "If you encounter any errors, the debugger will pause at the error location, allowing you to inspect the state."
   ]
  }
 ],
 "metadata": {
  "kernelspec": {
   "display_name": "LLM",
   "language": "python",
   "name": "llm_kernel"
  },
  "language_info": {
   "name": "python"
  }
 },
 "nbformat": 4,
 "nbformat_minor": 4
}