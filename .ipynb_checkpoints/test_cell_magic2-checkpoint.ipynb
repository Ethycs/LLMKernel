{
 "cells": [
  {
   "cell_type": "markdown",
   "metadata": {},
   "source": [
    "# "
   ]
  },
  {
   "cell_type": "code",
   "execution_count": 3,
   "metadata": {},
   "outputs": [
    {
     "name": "stderr",
     "output_type": "stream",
     "text": [
      "UsageError: Line magic function `%%timeit` not found.\n"
     ]
    }
   ],
   "source": [
    "# Test if built-in cell magics work\n",
    "%%timeit\n",
    "x = 1 + 1"
   ]
  },
  {
   "cell_type": "code",
   "execution_count": 1,
   "metadata": {},
   "outputs": [
    {
     "name": "stderr",
     "output_type": "stream",
     "text": [
      "UsageError: Line magic function `%llm` not found (But cell magic `%%llm` exists, did you mean that instead?).\n"
     ]
    }
   ],
   "source": [
    "# Test our cell magic with valid Python\n",
    "%llm\n",
    "x = 2 + 2\n",
    "print(x)"
   ]
  },
  {
   "cell_type": "code",
   "execution_count": 7,
   "metadata": {},
   "outputs": [
    {
     "name": "stdout",
     "output_type": "stream",
     "text": [
      "llm in cell magics: True\n",
      "Cell magic handler: <bound method LLMKernelMagics.llm of <llm_kernel.kernel.LLMKernelMagics object at 0x0000023302D8A7B0>>\n"
     ]
    }
   ],
   "source": [
    "# Check if the magic is actually registered\n",
    "ip = get_ipython()\n",
    "print(\"llm in cell magics:\", 'llm' in ip.magics_manager.magics['cell'])\n",
    "print(\"Cell magic handler:\", ip.magics_manager.magics['cell'].get('llm'))"
   ]
  },
  {
   "cell_type": "code",
   "execution_count": null,
   "metadata": {},
   "outputs": [],
   "source": []
  }
 ],
 "metadata": {
  "kernelspec": {
   "display_name": "LLM Kernel",
   "language": "python",
   "name": "llm_kernel"
  },
  "language_info": {
   "file_extension": ".py",
   "mimetype": "text/x-python",
   "name": "python"
  }
 },
 "nbformat": 4,
 "nbformat_minor": 4
}
