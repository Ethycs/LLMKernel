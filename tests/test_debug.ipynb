{
 "cells": [
  {
   "cell_type": "markdown",
   "metadata": {},
   "source": [
    "# Simple Debug Test\n",
    "\n",
    "This notebook tests debugging without environment variables."
   ]
  },
  {
   "cell_type": "code",
   "execution_count": 1,
   "metadata": {},
   "outputs": [
    {
     "name": "stdout",
     "output_type": "stream",
     "text": [
      "🐛 Debugger listening on port 5678\n",
      "📎 In VS Code: Run and Debug → 'Debug LLM Kernel' → Start Debugging (F5)\n"
     ]
    }
   ],
   "source": [
    "# Step 1: Enable debugging with magic command\n",
    "%llm_debug"
   ]
  },
  {
   "cell_type": "code",
   "execution_count": null,
   "metadata": {},
   "outputs": [],
   "source": [
    "# Step 2: After seeing \"Debugger listening\", go to VS Code:\n",
    "# - Press F5 or Run and Debug → \"Debug LLM Kernel\"\n",
    "# - You should see the debugger attach\n",
    "\n",
    "print(\"Debugger should now be attached!\")"
   ]
  },
  {
   "cell_type": "code",
   "execution_count": 2,
   "metadata": {},
   "outputs": [
    {
     "ename": "SyntaxError",
     "evalue": "invalid syntax (3654751877.py, line 5)",
     "output_type": "error",
     "traceback": [
      "  \u001b[36mCell\u001b[39m\u001b[36m \u001b[39m\u001b[32mIn[2]\u001b[39m\u001b[32m, line 5\u001b[39m\n\u001b[31m    \u001b[39m\u001b[31mHello! If you see this, debugging is working!\u001b[39m\n         ^\n\u001b[31mSyntaxError\u001b[39m\u001b[31m:\u001b[39m invalid syntax\n"
     ]
    }
   ],
   "source": [
    "# Step 3: Set a breakpoint in llm_kernel/kernel.py on line ~373 (query_llm_sync)\n",
    "# Then run this cell - it should stop at the breakpoint\n",
    "\n",
    "%%llm\n",
    "Hello! If you see this, debugging is working!"
   ]
  },
  {
   "cell_type": "markdown",
   "metadata": {},
   "source": [
    "## Alternative: Debug with wait"
   ]
  },
  {
   "cell_type": "code",
   "execution_count": null,
   "metadata": {},
   "outputs": [],
   "source": [
    "# This will wait for debugger before continuing\n",
    "%llm_debug 5679 --wait"
   ]
  }
 ],
 "metadata": {
  "kernelspec": {
   "display_name": "LLM Kernel",
   "language": "python",
   "name": "llm_kernel"
  },
  "language_info": {
   "file_extension": ".py",
   "mimetype": "text/x-python",
   "name": "python"
  }
 },
 "nbformat": 4,
 "nbformat_minor": 4
}
