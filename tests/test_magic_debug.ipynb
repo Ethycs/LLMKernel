{
 "cells": [
  {
   "cell_type": "code",
   "execution_count": 4,
   "metadata": {},
   "outputs": [
    {
     "name": "stdout",
     "output_type": "stream",
     "text": [
      "Kernel module: <module '__main__'>\n",
      "Has kernel attribute: True\n"
     ]
    }
   ],
   "source": [
    "# Check if our kernel instance has the expected attributes\n",
    "import sys\n",
    "print(f\"Kernel module: {sys.modules.get('__main__')}\")\n",
    "print(f\"Has kernel attribute: {hasattr(sys.modules.get('__main__'), 'kernel')}\")"
   ]
  },
  {
   "cell_type": "code",
   "execution_count": 5,
   "metadata": {},
   "outputs": [
    {
     "name": "stdout",
     "output_type": "stream",
     "text": [
      "Kernel type: <class 'llm_kernel.kernel.LLMKernel'>\n",
      "Has _magics_registered: True\n",
      "Magics registered: True\n"
     ]
    }
   ],
   "source": [
    "# Try to access the kernel instance\n",
    "try:\n",
    "    kernel = get_ipython().kernel\n",
    "    print(f\"Kernel type: {type(kernel)}\")\n",
    "    print(f\"Has _magics_registered: {hasattr(kernel, '_magics_registered')}\")\n",
    "    if hasattr(kernel, '_magics_registered'):\n",
    "        print(f\"Magics registered: {kernel._magics_registered}\")\n",
    "except Exception as e:\n",
    "    print(f\"Error: {e}\")"
   ]
  },
  {
   "cell_type": "code",
   "execution_count": 6,
   "metadata": {},
   "outputs": [
    {
     "name": "stdout",
     "output_type": "stream",
     "text": [
      "LLM line magics: ['llm_models', 'llm_model', 'llm_status', 'llm_clear', 'llm_history', 'llm_pin_cell', 'llm_unpin_cell', 'llm_context', 'llm_debug', 'llm_display', 'llm_prune', 'llm_config']\n",
      "LLM cell magics: ['llm', 'llm_gpt4', 'llm_claude', 'llm_compare']\n"
     ]
    }
   ],
   "source": [
    "# Check available line magics that start with 'llm'\n",
    "ip = get_ipython()\n",
    "if hasattr(ip, 'magics_manager'):\n",
    "    line_magics = ip.magics_manager.magics.get('line', {})\n",
    "    llm_magics = [m for m in line_magics.keys() if m.startswith('llm')]\n",
    "    print(f\"LLM line magics: {llm_magics}\")\n",
    "    \n",
    "    cell_magics = ip.magics_manager.magics.get('cell', {})\n",
    "    llm_cell_magics = [m for m in cell_magics.keys() if m.startswith('llm')]\n",
    "    print(f\"LLM cell magics: {llm_cell_magics}\")"
   ]
  },
  {
   "cell_type": "code",
   "execution_count": null,
   "metadata": {},
   "outputs": [],
   "source": []
  }
 ],
 "metadata": {
  "kernelspec": {
   "display_name": "LLM Kernel",
   "language": "python",
   "name": "llm_kernel"
  },
  "language_info": {
   "file_extension": ".py",
   "mimetype": "text/x-python",
   "name": "python"
  }
 },
 "nbformat": 4,
 "nbformat_minor": 4
}
