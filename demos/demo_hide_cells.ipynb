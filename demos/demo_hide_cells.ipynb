{
 "cells": [
  {
   "cell_type": "markdown",
   "metadata": {},
   "source": [
    "# Demo: Hiding Cells from LLM Context\n",
    "\n",
    "This notebook demonstrates the `%%hide` cell magic that allows you to exclude specific cells from the LLM's context window."
   ]
  },
  {
   "cell_type": "code",
   "execution_count": null,
   "metadata": {},
   "outputs": [],
   "source": [
    "# Enable chat mode\n",
    "%llm_chat on"
   ]
  },
  {
   "cell_type": "code",
   "execution_count": null,
   "metadata": {},
   "outputs": [],
   "source": [
    "# This is a normal cell that will be included in context\n",
    "public_variable = \"This is visible to the LLM\"\n",
    "print(public_variable)"
   ]
  },
  {
   "cell_type": "code",
   "execution_count": null,
   "metadata": {},
   "outputs": [],
   "source": [
    "%%hide\n",
    "# This cell is hidden from the LLM!\n",
    "secret_api_key = \"sk-1234567890abcdef\"\n",
    "password = \"super_secret_password\"\n",
    "internal_notes = \"Don't share this with the LLM\"\n",
    "\n",
    "print(\"This output won't be seen by the LLM either!\")"
   ]
  },
  {
   "cell_type": "code",
   "execution_count": null,
   "metadata": {},
   "outputs": [],
   "source": [
    "# Another visible cell\n",
    "visible_data = [1, 2, 3, 4, 5]\n",
    "print(f\"Processing data: {visible_data}\")"
   ]
  },
  {
   "cell_type": "code",
   "execution_count": null,
   "metadata": {},
   "outputs": [],
   "source": [
    "What variables have I defined so far? Can you list them?"
   ]
  },
  {
   "cell_type": "markdown",
   "metadata": {},
   "source": [
    "## Checking What's Hidden\n",
    "\n",
    "Let's see what the LLM actually sees:"
   ]
  },
  {
   "cell_type": "code",
   "execution_count": null,
   "metadata": {},
   "outputs": [],
   "source": [
    "# Show current context\n",
    "%llm_context"
   ]
  },
  {
   "cell_type": "code",
   "execution_count": null,
   "metadata": {},
   "outputs": [],
   "source": [
    "# Show which cells are hidden\n",
    "%llm_hidden"
   ]
  },
  {
   "cell_type": "markdown",
   "metadata": {},
   "source": [
    "## More Hidden Content"
   ]
  },
  {
   "cell_type": "code",
   "execution_count": null,
   "metadata": {},
   "outputs": [],
   "source": [
    "%%hide\n",
    "# Development notes and debugging\n",
    "debug_mode = True\n",
    "test_endpoint = \"http://localhost:8000/api/test\"\n",
    "admin_token = \"admin-token-12345\"\n",
    "\n",
    "# Internal comments about implementation\n",
    "# TODO: Fix the bug in the authentication module\n",
    "# NOTE: The cache expires every 24 hours\n",
    "\n",
    "print(\"Debug info that shouldn't be shared\")"
   ]
  },
  {
   "cell_type": "code",
   "execution_count": null,
   "metadata": {},
   "outputs": [],
   "source": [
    "Do you see any API keys, passwords, or debug information in our conversation?"
   ]
  },
  {
   "cell_type": "markdown",
   "metadata": {},
   "source": [
    "## Unhiding Cells\n",
    "\n",
    "You can unhide cells if needed:"
   ]
  },
  {
   "cell_type": "code",
   "execution_count": null,
   "metadata": {},
   "outputs": [],
   "source": [
    "# Unhide a specific cell (use the cell number)\n",
    "# %llm_unhide 3"
   ]
  },
  {
   "cell_type": "code",
   "execution_count": null,
   "metadata": {},
   "outputs": [],
   "source": [
    "# Or unhide all cells\n",
    "# %llm_unhide all"
   ]
  },
  {
   "cell_type": "markdown",
   "metadata": {},
   "source": [
    "## Use Cases for %%hide\n",
    "\n",
    "1. **Secrets Management** - Hide API keys, passwords, tokens\n",
    "2. **Private Notes** - Keep development notes private\n",
    "3. **Debugging Code** - Hide verbose debug output\n",
    "4. **Sensitive Data** - Exclude PII or confidential information\n",
    "5. **Work in Progress** - Hide incomplete or experimental code\n",
    "6. **Performance** - Exclude large outputs to reduce context size"
   ]
  },
  {
   "cell_type": "code",
   "execution_count": null,
   "metadata": {},
   "outputs": [],
   "source": [
    "%%hide\n",
    "# Example: Loading sensitive configuration\n",
    "import os\n",
    "from dotenv import load_dotenv\n",
    "\n",
    "load_dotenv()\n",
    "DATABASE_URL = os.getenv('DATABASE_URL')\n",
    "STRIPE_API_KEY = os.getenv('STRIPE_API_KEY')\n",
    "AWS_SECRET_KEY = os.getenv('AWS_SECRET_KEY')\n",
    "\n",
    "print(f\"Loaded {len(os.environ)} environment variables\")"
   ]
  },
  {
   "cell_type": "code",
   "execution_count": null,
   "metadata": {},
   "outputs": [],
   "source": [
    "# Public code that uses the hidden configuration\n",
    "def connect_to_database():\n",
    "    # Uses DATABASE_URL from hidden cell\n",
    "    return \"Connected to database\"\n",
    "\n",
    "print(connect_to_database())"
   ]
  },
  {
   "cell_type": "code",
   "execution_count": null,
   "metadata": {},
   "outputs": [],
   "source": [
    "Can you see how I'm connecting to the database? What configuration am I using?"
   ]
  },
  {
   "cell_type": "code",
   "execution_count": null,
   "metadata": {},
   "outputs": [],
   "source": [
    "# Disable chat mode\n",
    "%llm_chat off"
   ]
  }
 ],
 "metadata": {
  "kernelspec": {
   "display_name": "LLM Kernel",
   "language": "python",
   "name": "llm_kernel"
  },
  "language_info": {
   "name": "python"
  }
 },
 "nbformat": 4,
 "nbformat_minor": 4
}