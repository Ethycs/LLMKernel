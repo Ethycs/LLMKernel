{
 "cells": [
  {
   "cell_type": "markdown",
   "metadata": {},
   "source": [
    "# Context Persistence Demo\n",
    "\n",
    "This notebook demonstrates how context persists across kernel restarts and how to manage it."
   ]
  },
  {
   "cell_type": "markdown",
   "metadata": {},
   "source": [
    "## Part 1: Initial Session\n",
    "\n",
    "Let's start a conversation and build some context:"
   ]
  },
  {
   "cell_type": "code",
   "execution_count": null,
   "metadata": {},
   "outputs": [],
   "source": [
    "# Enable chat mode\n",
    "%llm_chat on"
   ]
  },
  {
   "cell_type": "code",
   "execution_count": null,
   "metadata": {},
   "outputs": [],
   "source": [
    "Hi! I'm working on a Python project. My name is Bob and I'm building a web scraper."
   ]
  },
  {
   "cell_type": "code",
   "execution_count": null,
   "metadata": {},
   "outputs": [],
   "source": [
    "# Define some project-specific code\n",
    "import requests\n",
    "from bs4 import BeautifulSoup\n",
    "\n",
    "def scrape_website(url):\n",
    "    response = requests.get(url)\n",
    "    soup = BeautifulSoup(response.text, 'html.parser')\n",
    "    return soup.title.string if soup.title else \"No title found\"\n",
    "\n",
    "# Test it\n",
    "test_url = \"https://example.com\"\n",
    "print(f\"Title: {scrape_website(test_url)}\")"
   ]
  },
  {
   "cell_type": "code",
   "execution_count": null,
   "metadata": {},
   "outputs": [],
   "source": [
    "Can you help me improve this scraper to handle errors better?"
   ]
  },
  {
   "cell_type": "markdown",
   "metadata": {},
   "source": [
    "## Part 2: Context Management\n",
    "\n",
    "Let's save our context before restarting:"
   ]
  },
  {
   "cell_type": "code",
   "execution_count": null,
   "metadata": {},
   "outputs": [],
   "source": [
    "# Save the current context\n",
    "%llm_context_save my_scraper_session.json"
   ]
  },
  {
   "cell_type": "code",
   "execution_count": null,
   "metadata": {},
   "outputs": [],
   "source": [
    "# Check what's in our context\n",
    "%llm_context"
   ]
  },
  {
   "cell_type": "markdown",
   "metadata": {},
   "source": [
    "## Part 3: Simulating a Restart\n",
    "\n",
    "Now imagine you've restarted the kernel or come back tomorrow..."
   ]
  },
  {
   "cell_type": "code",
   "execution_count": null,
   "metadata": {},
   "outputs": [],
   "source": [
    "# Reset context to simulate a fresh start\n",
    "%llm_context_reset"
   ]
  },
  {
   "cell_type": "code",
   "execution_count": null,
   "metadata": {},
   "outputs": [],
   "source": [
    "# Check - context should be empty\n",
    "%llm_context"
   ]
  },
  {
   "cell_type": "code",
   "execution_count": null,
   "metadata": {},
   "outputs": [],
   "source": [
    "# Now load our saved context\n",
    "%llm_context_load my_scraper_session.json"
   ]
  },
  {
   "cell_type": "code",
   "execution_count": null,
   "metadata": {},
   "outputs": [],
   "source": [
    "# The LLM should remember our previous conversation!\n",
    "Do you remember my name and what project I'm working on?"
   ]
  },
  {
   "cell_type": "markdown",
   "metadata": {},
   "source": [
    "## Part 4: Context Persistence Settings\n",
    "\n",
    "By default, the kernel loads all notebook cells automatically:"
   ]
  },
  {
   "cell_type": "code",
   "execution_count": null,
   "metadata": {},
   "outputs": [],
   "source": [
    "# Check persistence status\n",
    "%llm_context_persist status"
   ]
  },
  {
   "cell_type": "code",
   "execution_count": null,
   "metadata": {},
   "outputs": [],
   "source": [
    "# You can disable automatic loading\n",
    "%llm_context_persist off"
   ]
  },
  {
   "cell_type": "code",
   "execution_count": null,
   "metadata": {},
   "outputs": [],
   "source": [
    "# Or enable it again (default)\n",
    "%llm_context_persist on"
   ]
  },
  {
   "cell_type": "markdown",
   "metadata": {},
   "source": [
    "## Part 5: Working with Hidden Context\n",
    "\n",
    "Some cells might contain sensitive info:"
   ]
  },
  {
   "cell_type": "code",
   "execution_count": null,
   "metadata": {},
   "outputs": [],
   "source": [
    "%%hide\n",
    "# This won't be saved in context\n",
    "API_KEY = \"super-secret-key-12345\"\n",
    "DATABASE_PASSWORD = \"definitely-not-password123\""
   ]
  },
  {
   "cell_type": "code",
   "execution_count": null,
   "metadata": {},
   "outputs": [],
   "source": [
    "# Save context again - hidden cells won't be included\n",
    "%llm_context_save scraper_with_secrets.json"
   ]
  },
  {
   "cell_type": "code",
   "execution_count": null,
   "metadata": {},
   "outputs": [],
   "source": [
    "# Reset but keep hidden cells\n",
    "%llm_context_reset --keep-hidden"
   ]
  },
  {
   "cell_type": "markdown",
   "metadata": {},
   "source": [
    "## Summary\n",
    "\n",
    "Context persistence features:\n",
    "\n",
    "1. **Automatic Loading** - By default, all notebook cells are loaded as context\n",
    "2. **Save/Load** - Explicitly save and restore context sessions\n",
    "3. **Reset** - Clear context while optionally keeping hidden cells\n",
    "4. **Persistence Control** - Toggle automatic loading on/off\n",
    "\n",
    "This allows you to:\n",
    "- Continue conversations across kernel restarts\n",
    "- Share context between notebooks\n",
    "- Manage different conversation sessions\n",
    "- Keep sensitive data hidden while preserving context"
   ]
  },
  {
   "cell_type": "code",
   "execution_count": null,
   "metadata": {},
   "outputs": [],
   "source": [
    "# Disable chat mode\n",
    "%llm_chat off"
   ]
  }
 ],
 "metadata": {
  "kernelspec": {
   "display_name": "LLM Kernel",
   "language": "python",
   "name": "llm_kernel"
  },
  "language_info": {
   "name": "python"
  }
 },
 "nbformat": 4,
 "nbformat_minor": 4
}