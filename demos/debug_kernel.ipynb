{
 "cells": [
  {
   "cell_type": "markdown",
   "metadata": {},
   "source": [
    "# Debug LLM Kernel in VS Code\n",
    "\n",
    "This notebook helps debug the LLM Kernel using VS Code's debugger."
   ]
  },
  {
   "cell_type": "markdown",
   "metadata": {},
   "source": [
    "## Option 1: Debug with Environment Variables\n",
    "\n",
    "1. Set environment variables before starting VS Code:\n",
    "```bash\n",
    "export LLM_KERNEL_DEBUGGER=true\n",
    "export LLM_KERNEL_DEBUG_WAIT=true\n",
    "code .\n",
    "```\n",
    "\n",
    "2. Open this notebook and select LLM Kernel\n",
    "3. Go to Run and Debug → \"Debug LLM Kernel\"\n",
    "4. Run the cell below - kernel will wait for debugger"
   ]
  },
  {
   "cell_type": "code",
   "execution_count": null,
   "metadata": {},
   "outputs": [],
   "source": [
    "# This will pause until debugger attaches\n",
    "print(\"If kernel is waiting, attach debugger now!\")"
   ]
  },
  {
   "cell_type": "markdown",
   "metadata": {},
   "source": [
    "## Option 2: Enable Debugging Dynamically"
   ]
  },
  {
   "cell_type": "code",
   "execution_count": 1,
   "metadata": {},
   "outputs": [
    {
     "name": "stdout",
     "output_type": "stream",
     "text": [
      "Debugger listening on port 5678\n",
      "Go to VS Code → Run and Debug → 'Debug LLM Kernel'\n"
     ]
    }
   ],
   "source": [
    "# Enable debugging for next cell\n",
    "import os\n",
    "os.environ['LLM_KERNEL_DEBUGGER'] = 'true'\n",
    "\n",
    "# Get kernel instance\n",
    "kernel = get_ipython().kernel\n",
    "\n",
    "# Start debugger\n",
    "try:\n",
    "    import debugpy\n",
    "    debugpy.listen(5678)\n",
    "    print(\"Debugger listening on port 5678\")\n",
    "    print(\"Go to VS Code → Run and Debug → 'Debug LLM Kernel'\")\n",
    "except ImportError:\n",
    "    print(\"Install debugpy: pip install debugpy\")"
   ]
  },
  {
   "cell_type": "markdown",
   "metadata": {},
   "source": [
    "## Option 3: Debug Specific Methods"
   ]
  },
  {
   "cell_type": "code",
   "execution_count": null,
   "metadata": {},
   "outputs": [],
   "source": [
    "# Add breakpoint to specific method\n",
    "kernel = get_ipython().kernel\n",
    "\n",
    "# Wrap method with debugger\n",
    "original_query = kernel.query_llm_sync\n",
    "\n",
    "def debug_query(*args, **kwargs):\n",
    "    import debugpy\n",
    "    debugpy.breakpoint()  # Stops here!\n",
    "    return original_query(*args, **kwargs)\n",
    "\n",
    "kernel.query_llm_sync = debug_query\n",
    "print(\"Breakpoint added to query_llm_sync\")"
   ]
  },
  {
   "cell_type": "code",
   "execution_count": null,
   "metadata": {},
   "outputs": [],
   "source": [
    "# This will hit the breakpoint\n",
    "%%llm\n",
    "Hello! This query will stop at the breakpoint."
   ]
  },
  {
   "cell_type": "markdown",
   "metadata": {},
   "source": [
    "## Inspect Kernel State"
   ]
  },
  {
   "cell_type": "code",
   "execution_count": 1,
   "metadata": {},
   "outputs": [
    {
     "name": "stdout",
     "output_type": "stream",
     "text": [
      "Kernel type: <class 'llm_kernel.kernel.LLMKernel'>\n",
      "Active model: gpt-4o-mini\n",
      "Display mode: inline\n",
      "Context strategy: smart\n",
      "Execution count: 1\n",
      "\n",
      "Pinned cells: set()\n",
      "Cell mappings: {1: '6de1fd03-fd1f-4ff6-8baa-3ad5e68dcecc'}\n"
     ]
    }
   ],
   "source": [
    "# Inspect kernel state\n",
    "kernel = get_ipython().kernel\n",
    "\n",
    "print(f\"Kernel type: {type(kernel)}\")\n",
    "print(f\"Active model: {kernel.active_model}\")\n",
    "print(f\"Display mode: {kernel.display_mode}\")\n",
    "print(f\"Context strategy: {kernel.context_manager.context_strategy}\")\n",
    "print(f\"Execution count: {kernel.execution_count}\")\n",
    "print(f\"\\nPinned cells: {kernel.execution_tracker.pinned_cells}\")\n",
    "print(f\"Cell mappings: {kernel.execution_tracker.cell_number_to_id}\")"
   ]
  },
  {
   "cell_type": "markdown",
   "metadata": {},
   "source": [
    "## Debug Context Issues"
   ]
  },
  {
   "cell_type": "code",
   "execution_count": 2,
   "metadata": {},
   "outputs": [
    {
     "name": "stdout",
     "output_type": "stream",
     "text": [
      "Breakpoint added to context retrieval\n"
     ]
    }
   ],
   "source": [
    "# Debug context tracking\n",
    "kernel = get_ipython().kernel\n",
    "\n",
    "# Set breakpoint in context manager\n",
    "import debugpy\n",
    "\n",
    "original_get_context = kernel.context_manager.get_context_for_model\n",
    "\n",
    "def debug_get_context(*args, **kwargs):\n",
    "    debugpy.breakpoint()\n",
    "    return original_get_context(*args, **kwargs)\n",
    "\n",
    "kernel.context_manager.get_context_for_model = debug_get_context\n",
    "print(\"Breakpoint added to context retrieval\")"
   ]
  },
  {
   "cell_type": "markdown",
   "metadata": {},
   "source": [
    "## Debug Async Issues"
   ]
  },
  {
   "cell_type": "code",
   "execution_count": 3,
   "metadata": {},
   "outputs": [
    {
     "name": "stdout",
     "output_type": "stream",
     "text": [
      "Event loop: <_WindowsSelectorEventLoop running=True closed=False debug=False>\n",
      "Is running: True\n",
      "\n",
      "nest_asyncio available\n",
      "Applied: False\n"
     ]
    }
   ],
   "source": [
    "# Check async environment\n",
    "import asyncio\n",
    "\n",
    "try:\n",
    "    loop = asyncio.get_event_loop()\n",
    "    print(f\"Event loop: {loop}\")\n",
    "    print(f\"Is running: {loop.is_running()}\")\n",
    "except RuntimeError as e:\n",
    "    print(f\"No event loop: {e}\")\n",
    "\n",
    "# Check nest_asyncio\n",
    "try:\n",
    "    import nest_asyncio\n",
    "    print(\"\\nnest_asyncio available\")\n",
    "    print(f\"Applied: {getattr(nest_asyncio, '_patched', False)}\")\n",
    "except ImportError:\n",
    "    print(\"\\nnest_asyncio not installed\")"
   ]
  },
  {
   "cell_type": "code",
   "execution_count": null,
   "metadata": {},
   "outputs": [],
   "source": [
    "%llm_debug"
   ]
  }
 ],
 "metadata": {
  "kernelspec": {
   "display_name": "LLM Kernel",
   "language": "python",
   "name": "llm_kernel"
  },
  "language_info": {
   "file_extension": ".py",
   "mimetype": "text/x-python",
   "name": "python"
  }
 },
 "nbformat": 4,
 "nbformat_minor": 4
}
