{
 "cells": [
  {
   "cell_type": "markdown",
   "metadata": {},
   "source": [
    "# LLM Kernel Multimodal Demo\n",
    "\n",
    "This notebook demonstrates the multimodal capabilities of the LLM Kernel, including:\n",
    "- Working with images (local files and URLs)\n",
    "- Pasting content from clipboard\n",
    "- Processing PDF documents\n",
    "- Querying vision-capable models"
   ]
  },
  {
   "cell_type": "markdown",
   "metadata": {},
   "source": [
    "## Setup\n",
    "\n",
    "First, let's check our available models and ensure we have a vision-capable model active:"
   ]
  },
  {
   "cell_type": "code",
   "execution_count": null,
   "metadata": {},
   "outputs": [],
   "source": [
    "%llm_models"
   ]
  },
  {
   "cell_type": "code",
   "execution_count": null,
   "metadata": {},
   "outputs": [],
   "source": [
    "# Switch to a vision-capable model (e.g., GPT-4o)\n",
    "%llm_model gpt-4o"
   ]
  },
  {
   "cell_type": "markdown",
   "metadata": {},
   "source": [
    "## Working with Images\n",
    "\n",
    "### Including Local Images"
   ]
  },
  {
   "cell_type": "code",
   "execution_count": null,
   "metadata": {},
   "outputs": [],
   "source": [
    "# Preview an image first\n",
    "# %llm_image --show path/to/your/image.png"
   ]
  },
  {
   "cell_type": "code",
   "execution_count": null,
   "metadata": {},
   "outputs": [],
   "source": [
    "# Include an image and ask about it\n",
    "# %llm_image path/to/your/image.png\n",
    "# What do you see in this image?"
   ]
  },
  {
   "cell_type": "markdown",
   "metadata": {},
   "source": [
    "### Working with Image URLs"
   ]
  },
  {
   "cell_type": "code",
   "execution_count": null,
   "metadata": {},
   "outputs": [],
   "source": [
    "# Include an image from URL\n",
    "%llm_image https://upload.wikimedia.org/wikipedia/commons/thumb/3/3a/Cat03.jpg/1200px-Cat03.jpg\n",
    "Describe this image in detail."
   ]
  },
  {
   "cell_type": "markdown",
   "metadata": {},
   "source": [
    "## Using Clipboard Content\n",
    "\n",
    "Copy an image or text to your clipboard, then use these commands:"
   ]
  },
  {
   "cell_type": "code",
   "execution_count": null,
   "metadata": {},
   "outputs": [],
   "source": [
    "# Check what's in your clipboard\n",
    "%llm_paste --show"
   ]
  },
  {
   "cell_type": "code",
   "execution_count": null,
   "metadata": {},
   "outputs": [],
   "source": [
    "# Paste and analyze clipboard content\n",
    "%llm_paste\n",
    "What can you tell me about this content?"
   ]
  },
  {
   "cell_type": "markdown",
   "metadata": {},
   "source": [
    "## Working with Multiple Images"
   ]
  },
  {
   "cell_type": "code",
   "execution_count": null,
   "metadata": {},
   "outputs": [],
   "source": [
    "# Attach multiple images\n",
    "%llm_image https://upload.wikimedia.org/wikipedia/commons/thumb/3/3a/Cat03.jpg/400px-Cat03.jpg\n",
    "%llm_image https://upload.wikimedia.org/wikipedia/commons/thumb/1/1b/Persian_Cat_(kitten).jpg/400px-Persian_Cat_(kitten).jpg\n",
    "\n",
    "# Check what's attached\n",
    "%llm_media_list current"
   ]
  },
  {
   "cell_type": "code",
   "execution_count": null,
   "metadata": {},
   "outputs": [],
   "source": [
    "%%llm_vision\n",
    "Compare these two cat images. What are the differences in breed, age, and appearance?"
   ]
  },
  {
   "cell_type": "code",
   "execution_count": null,
   "metadata": {},
   "outputs": [],
   "source": [
    "# Clear media after use\n",
    "%llm_media_clear"
   ]
  },
  {
   "cell_type": "markdown",
   "metadata": {},
   "source": [
    "## Working with PDFs\n",
    "\n",
    "If you have a PDF document, you can include it as images or extract text:"
   ]
  },
  {
   "cell_type": "code",
   "execution_count": null,
   "metadata": {},
   "outputs": [],
   "source": [
    "# Preview first page of a PDF\n",
    "# %llm_pdf --show document.pdf"
   ]
  },
  {
   "cell_type": "code",
   "execution_count": null,
   "metadata": {},
   "outputs": [],
   "source": [
    "# Include specific pages as images\n",
    "# %llm_pdf --pages 1,2,3 document.pdf\n",
    "# Summarize the content from these pages"
   ]
  },
  {
   "cell_type": "code",
   "execution_count": null,
   "metadata": {},
   "outputs": [],
   "source": [
    "# Extract text for non-vision models\n",
    "# %llm_pdf --text document.pdf\n",
    "# What are the main points in this document?"
   ]
  },
  {
   "cell_type": "markdown",
   "metadata": {},
   "source": [
    "## Advanced Usage\n",
    "\n",
    "### Creating Visual Comparisons"
   ]
  },
  {
   "cell_type": "code",
   "execution_count": null,
   "metadata": {},
   "outputs": [],
   "source": [
    "# Create a simple plot\n",
    "import matplotlib.pyplot as plt\n",
    "import numpy as np\n",
    "\n",
    "x = np.linspace(0, 10, 100)\n",
    "plt.figure(figsize=(10, 6))\n",
    "plt.subplot(1, 2, 1)\n",
    "plt.plot(x, np.sin(x))\n",
    "plt.title('Sine Wave')\n",
    "\n",
    "plt.subplot(1, 2, 2)\n",
    "plt.plot(x, np.cos(x))\n",
    "plt.title('Cosine Wave')\n",
    "\n",
    "plt.tight_layout()\n",
    "plt.savefig('waves.png')\n",
    "plt.show()"
   ]
  },
  {
   "cell_type": "code",
   "execution_count": null,
   "metadata": {},
   "outputs": [],
   "source": [
    "# Analyze the generated plot\n",
    "%llm_image waves.png\n",
    "Explain the mathematical relationship between these two waves and their key properties."
   ]
  },
  {
   "cell_type": "markdown",
   "metadata": {},
   "source": [
    "### Analyzing Screenshots\n",
    "\n",
    "Take a screenshot and paste it from clipboard:"
   ]
  },
  {
   "cell_type": "code",
   "execution_count": null,
   "metadata": {},
   "outputs": [],
   "source": [
    "# After taking a screenshot (Cmd+Shift+4 on Mac, Win+Shift+S on Windows)\n",
    "%llm_paste\n",
    "%%llm_vision\n",
    "Analyze this user interface. What improvements would you suggest for better usability?"
   ]
  },
  {
   "cell_type": "markdown",
   "metadata": {},
   "source": [
    "## Managing Media\n",
    "\n",
    "### Listing All Media"
   ]
  },
  {
   "cell_type": "code",
   "execution_count": null,
   "metadata": {},
   "outputs": [],
   "source": [
    "# See all media attached to cells\n",
    "%llm_media_list"
   ]
  },
  {
   "cell_type": "code",
   "execution_count": null,
   "metadata": {},
   "outputs": [],
   "source": [
    "# Clear all media to free memory\n",
    "%llm_media_clear all"
   ]
  },
  {
   "cell_type": "markdown",
   "metadata": {},
   "source": [
    "## Tips and Best Practices\n",
    "\n",
    "1. **Model Selection**: Make sure you're using a vision-capable model (GPT-4o, Claude 3, Gemini Vision)\n",
    "2. **Image Size**: Large images are automatically resized to fit model limits\n",
    "3. **Context**: Attached media persists with the cell - clear it when done\n",
    "4. **Multiple Queries**: You can query the same images multiple times without re-attaching\n",
    "5. **Chat Mode**: Multimodal content works with chat mode too!"
   ]
  },
  {
   "cell_type": "code",
   "execution_count": null,
   "metadata": {},
   "outputs": [],
   "source": [
    "# Enable chat mode for natural conversation about images\n",
    "%llm_chat on"
   ]
  },
  {
   "cell_type": "code",
   "execution_count": null,
   "metadata": {},
   "outputs": [],
   "source": [
    "# Now you can attach images and chat naturally\n",
    "# %llm_image example.png\n",
    "# What colors are dominant in this image?"
   ]
  }
 ],
 "metadata": {
  "kernelspec": {
   "display_name": "LLM Kernel",
   "language": "python",
   "name": "llm_kernel"
  },
  "language_info": {
   "name": "python"
  }
 },
 "nbformat": 4,
 "nbformat_minor": 4
}