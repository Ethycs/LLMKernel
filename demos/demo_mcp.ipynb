{
 "cells": [
  {
   "cell_type": "markdown",
   "metadata": {},
   "source": [
    "# MCP (Model Context Protocol) Integration Demo\n",
    "\n",
    "This notebook demonstrates how to use MCP servers with the LLM Kernel to give your LLM access to external tools and resources."
   ]
  },
  {
   "cell_type": "markdown",
   "metadata": {},
   "source": [
    "## 1. Check MCP Configuration\n",
    "\n",
    "First, let's see if we have any MCP servers configured:"
   ]
  },
  {
   "cell_type": "code",
   "execution_count": null,
   "metadata": {},
   "outputs": [],
   "source": [
    "%llm_mcp_config"
   ]
  },
  {
   "cell_type": "markdown",
   "metadata": {},
   "source": [
    "## 2. Example MCP Configuration\n",
    "\n",
    "If you don't have any servers configured, create a file called `mcp-config.json` in your project directory:\n",
    "\n",
    "```json\n",
    "{\n",
    "  \"mcpServers\": {\n",
    "    \"filesystem\": {\n",
    "      \"command\": \"npx\",\n",
    "      \"args\": [\"-y\", \"@modelcontextprotocol/server-filesystem\", \"/path/to/allowed/dir\"]\n",
    "    },\n",
    "    \"github\": {\n",
    "      \"url\": \"https://api.github.com/mcp\",\n",
    "      \"headers\": {\n",
    "        \"Authorization\": \"Bearer YOUR_GITHUB_TOKEN\"\n",
    "      }\n",
    "    }\n",
    "  }\n",
    "}\n",
    "```"
   ]
  },
  {
   "cell_type": "markdown",
   "metadata": {},
   "source": [
    "## 3. Connect to MCP Servers\n",
    "\n",
    "Connect to all configured servers or a specific one:"
   ]
  },
  {
   "cell_type": "code",
   "execution_count": null,
   "metadata": {},
   "outputs": [],
   "source": [
    "# Connect to all configured servers\n",
    "%llm_mcp_connect"
   ]
  },
  {
   "cell_type": "code",
   "execution_count": null,
   "metadata": {},
   "outputs": [],
   "source": [
    "# Or connect to a specific server by URL\n",
    "# %llm_mcp_connect https://example.com/mcp"
   ]
  },
  {
   "cell_type": "markdown",
   "metadata": {},
   "source": [
    "## 4. List Available Tools\n",
    "\n",
    "See what tools are available from connected servers:"
   ]
  },
  {
   "cell_type": "code",
   "execution_count": null,
   "metadata": {},
   "outputs": [],
   "source": [
    "%llm_mcp_tools"
   ]
  },
  {
   "cell_type": "code",
   "execution_count": null,
   "metadata": {},
   "outputs": [],
   "source": [
    "# Get tools as JSON for programmatic use\n",
    "%llm_mcp_tools --json"
   ]
  },
  {
   "cell_type": "markdown",
   "metadata": {},
   "source": [
    "## 5. Call Tools Directly\n",
    "\n",
    "You can call MCP tools directly:"
   ]
  },
  {
   "cell_type": "code",
   "execution_count": null,
   "metadata": {},
   "outputs": [],
   "source": [
    "# Example: Read a file using filesystem server\n",
    "# %llm_mcp_call filesystem.read_file {\"path\": \"README.md\"}"
   ]
  },
  {
   "cell_type": "code",
   "execution_count": null,
   "metadata": {},
   "outputs": [],
   "source": [
    "# Example: List directory contents\n",
    "# %llm_mcp_call filesystem.list_directory {\"path\": \".\", \"recursive\": false}"
   ]
  },
  {
   "cell_type": "markdown",
   "metadata": {},
   "source": [
    "## 6. Query LLM with MCP Tools (Coming Soon)\n",
    "\n",
    "Soon you'll be able to query the LLM and have it automatically use MCP tools:"
   ]
  },
  {
   "cell_type": "code",
   "execution_count": null,
   "metadata": {},
   "outputs": [],
   "source": [
    "%%llm_mcp\n",
    "Can you read the README.md file and tell me what this project is about?"
   ]
  },
  {
   "cell_type": "code",
   "execution_count": null,
   "metadata": {},
   "outputs": [],
   "source": [
    "%%llm_mcp\n",
    "What files are in the current directory? Are there any Python files?"
   ]
  },
  {
   "cell_type": "markdown",
   "metadata": {},
   "source": [
    "## 7. Disconnect from Servers\n",
    "\n",
    "When done, you can disconnect:"
   ]
  },
  {
   "cell_type": "code",
   "execution_count": null,
   "metadata": {},
   "outputs": [],
   "source": [
    "# Disconnect from specific server\n",
    "# %llm_mcp_disconnect filesystem"
   ]
  },
  {
   "cell_type": "code",
   "execution_count": null,
   "metadata": {},
   "outputs": [],
   "source": [
    "# Disconnect from all servers\n",
    "# %llm_mcp_disconnect"
   ]
  },
  {
   "cell_type": "markdown",
   "metadata": {},
   "source": [
    "## Tips for Using MCP\n",
    "\n",
    "1. **Security**: Only connect to trusted MCP servers and limit filesystem access\n",
    "2. **Configuration**: Store your config in `~/.llm-kernel/mcp-config.json` for global access\n",
    "3. **Environment**: Use `LLM_KERNEL_MCP_SERVERS` env variable for dynamic configuration\n",
    "4. **Tools**: Each server provides different tools - explore what's available!\n",
    "\n",
    "### Popular MCP Servers\n",
    "\n",
    "- **Filesystem**: File operations within allowed directories\n",
    "- **GitHub**: Repository management and GitHub API access  \n",
    "- **Git**: Local git repository operations\n",
    "- **Fetch**: Web content fetching and conversion\n",
    "- **Postgres**: Database queries and operations\n",
    "- **Slack**: Slack workspace integration\n",
    "\n",
    "Check out more at: https://github.com/modelcontextprotocol/servers"
   ]
  }
 ],
 "metadata": {
  "kernelspec": {
   "display_name": "LLM",
   "language": "python",
   "name": "llm_kernel"
  },
  "language_info": {
   "name": "python"
  }
 },
 "nbformat": 4,
 "nbformat_minor": 4
}